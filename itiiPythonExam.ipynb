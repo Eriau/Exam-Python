{
  "nbformat": 4,
  "nbformat_minor": 0,
  "metadata": {
    "kernelspec": {
      "display_name": "Python 3",
      "language": "python",
      "name": "python3"
    },
    "language_info": {
      "codemirror_mode": {
        "name": "ipython",
        "version": 3
      },
      "file_extension": ".py",
      "mimetype": "text/x-python",
      "name": "python",
      "nbconvert_exporter": "python",
      "pygments_lexer": "ipython3",
      "version": "3.8.3"
    },
    "colab": {
      "name": "itiiPythonExam.ipynb",
      "provenance": []
    }
  },
  "cells": [
    {
      "cell_type": "markdown",
      "metadata": {
        "id": "CX2fksNhrklw"
      },
      "source": [
        "# Devoir Python\n",
        "\n",
        "Vous devez rendre votre devoir sur GitHub.\n",
        "Vous avez le droit a tout vos documents et a internet\n",
        "\n",
        "1. votre depot doit etre privé\n",
        "2. vous devez inviter comme colaborateur votre chargé de TD/TP\n",
        "3. Seul le dernier commit avant la fin de la séance sera corrigé.\n"
      ]
    },
    {
      "cell_type": "markdown",
      "metadata": {
        "id": "BdOglWQ_rkl8"
      },
      "source": [
        "Ex 1: Integrale de Romberg\n",
        "\n",
        "Ecrire une fonction integ_romberg(f, a, b, epsilon=1e-6) permettant de calculer l’intégrale numérique de la fonction f entre les bornes a et b avec une précision epsilon selon la méthode de Romberg (https://fr.wikipedia.org/wiki/M%C3%A9thode_de_Romberg).\n",
        "\n",
        "Il s’agit d’une méthode qui permet d’améliorer les méthodes usuelles de calcul numérique des intégrales, comme la méthode des Trapèzes.\n",
        "On montre qu’en combinant judicieusement les valeurs obtenues par la méthode des Trapèzes pour différentes subdivisons de l’intervalle d’intégration, on augmente l’ordre de convergence (sa vitesse de convergence). \n"
      ]
    },
    {
      "cell_type": "code",
      "metadata": {
        "id": "KPCdGDRIrkl-",
        "outputId": "6c8ae3db-9ac6-4eb2-f117-b6171fbca295",
        "colab": {
          "base_uri": "https://localhost:8080/"
        }
      },
      "source": [
        "def rombderg(f,a,b,e):\r\n",
        "  \"\"\"Romberg Integration :\r\n",
        "  3 int ( f ( t ), t=a..b) avec n étapes \"\"\"\r\n",
        "  #On prépare un tableau qui va nous servir pour faire la somme\r\n",
        "  r = []\r\n",
        "  #On initie le premier h\r\n",
        "  h=b-a\r\n",
        "  s = 1\r\n",
        "  #On calcul la première itération du calcul trouvé dans la section algorithme\r\n",
        "  r.append([0.5*h*(f(a)+f(b))])\r\n",
        "  while True : # On va boucler tant que la diff de deux termes succesifs n'est pas plus petit que epsilon\r\n",
        "    #On update h en divisant par 2\r\n",
        "    h=h/2\r\n",
        "    #On initie la somme\r\n",
        "    sum=0\r\n",
        "    #On parcours T : T(2**n)\r\n",
        "    for k in range(1,2**s,2):\r\n",
        "      #On update la somme avec la formule f(a+k*h)\r\n",
        "      sum = sum + f(a+(k*h))\r\n",
        "      #On update notre valeur avec 1/2*n(n-1) + somme*h\r\n",
        "      rowi = [0.5*r[s-1][0]+sum*h]\r\n",
        "      #On parcours R\r\n",
        "      for j in range(1, s+1):\r\n",
        "        #On calcul la valeur grace a la formule trouvé dans redondance\r\n",
        "        rij = rowi[j-1] + (rowi[j-1]-r[s-1][j-1])/(4**j-1)\r\n",
        "        rowi.append(rij)\r\n",
        "      #On ajoute le resultat dans le tableau\r\n",
        "      r.append(rowi)\r\n",
        "      if abs(r[s][s]-r[s][s-1]) <= e : # Tant que la valeur absolue n'est pas plus petite que epsilon on n'arrete pas le programme\r\n",
        "        return r\r\n",
        "      s = s+1 # On incrémente s chaque fois que la différence n'est pas assez petite pour calculer une nouvelle série d'approximations\r\n",
        "\r\n",
        "def f(x):\r\n",
        "  return 2/(1+4*x**2)\r\n",
        "\r\n",
        "rombderg(f,-1,2,1e-6)"
      ],
      "execution_count": 75,
      "outputs": [
        {
          "output_type": "execute_result",
          "data": {
            "text/plain": [
              "[[0.7764705882352942],\n",
              " [1.888235294117647, 2.2588235294117647],\n",
              " [2.144117647058824, 2.229411764705883, 2.2274509803921574],\n",
              " [2.47895537525355, 2.5905679513184587, 2.614645030425964, 2.620790967728088],\n",
              " [1.5321606144560433,\n",
              "  1.2165623608568745,\n",
              "  1.1249619881594355,\n",
              "  1.1013162255837763,\n",
              "  1.095357501104779],\n",
              " [1.7646455869984665,\n",
              "  1.842140577845941,\n",
              "  1.8838457923118788,\n",
              "  1.895891566980965,\n",
              "  1.8990075487119344,\n",
              "  1.8997931303811497],\n",
              " [2.065503457885063,\n",
              "  2.1657894148472616,\n",
              "  2.187366003980683,\n",
              "  2.192183785118283,\n",
              "  2.193345715385488,\n",
              "  2.193633435978522,\n",
              "  2.1937051918529047],\n",
              " [2.2807972581932257,\n",
              "  2.3525618582959464,\n",
              "  2.3650133545258587,\n",
              "  2.3678331537408615,\n",
              "  2.3685219747942834,\n",
              "  2.368693212584517,\n",
              "  2.3687359622247137,\n",
              "  2.368746645907212],\n",
              " [2.4202743970740976,\n",
              "  2.466766776701055,\n",
              "  2.474380437928062,\n",
              "  2.4761164233788904,\n",
              "  2.4765410636519807,\n",
              "  2.4766466541591727,\n",
              "  2.4766730164159676,\n",
              "  2.476679604773057,\n",
              "  2.4766812517244396],\n",
              " [2.508733715344487,\n",
              "  2.5382201547679504,\n",
              "  2.5429837133057434,\n",
              "  2.5440726541847543,\n",
              "  2.5443391492075222,\n",
              "  2.5444054229959443,\n",
              "  2.544421969703841,\n",
              "  2.5444261050241908,\n",
              "  2.5444271387695214,\n",
              "  2.544427397200557]]"
            ]
          },
          "metadata": {
            "tags": []
          },
          "execution_count": 75
        }
      ]
    },
    {
      "cell_type": "markdown",
      "metadata": {
        "id": "2IXQY4HGrkmB"
      },
      "source": [
        "Ex 2: Équation d’état de l’eau à partir de la dynamique moléculaire\n",
        "\n",
        "Afin de modéliser les planètes de type Jupiter, Saturne, ou même des exo-planètes très massives (dites « super-Jupiters »), la connaissance de l’équation d’état des composants est nécessaire. Ces équations d’état doivent être valables jusqu’à plusieurs centaines de méga-bar ; autrement dit, celles-ci ne sont en aucun cas accessibles expérimentalement. On peut cependant obtenir une équation d’état numériquement à partir d’une dynamique moléculaire.\n",
        "\n",
        "Le principe est le suivant : on place dans une boite un certain nombre de particules régies par les équations microscopiques (Newton par exemple, ou même par des équations prenant en considération la mécanique quantique) puis on laisse celles-ci évoluer dans la boite ; on calcule à chaque pas de temps l’énergie interne à partir des intéractions électrostatiques et la pression à partir du tenseur des contraintes. On obtient en sortie l’évolution du système pour une densité fixée (par le choix de taille de la boite) et une température fixée (par un algorithme de thermostat que nous ne détaillerons pas ici).\n",
        "\n",
        "On se propose d’analyser quelques fichiers de sortie de tels calculs pour l’équation d’état de l’eau à très haute pression. Les fichiers de sortie sont disponibles ici; leur nom indique les conditions thermodynamiques correspondant au fichier, p.ex. 6000K_30gcc.out pour T=6000\n",
        "K et ρ=30 gcc. Le but est, pour chaque condition température-densité, d’extraire l’évolution de l’énergie et de la pression au cours du temps, puis d’en extraire la valeur moyenne ainsi que les fluctuations. Il arrive souvent que l’état initial choisi pour le système ne corresponde pas à son état d’équilibre, et qu’il faille donc « jeter » les quelques pas de temps en début de simulation qui correspondent à cette relaxation du système. Pour savoir combien de temps prend cette relaxation, il sera utile de tracer l’évolution au cours du temps de la pression et l’énergie pour quelques simulations. Une fois l’équation d’état P(ρ,T) et E(ρ,T) extraite, on pourra tracer le réseau d’isothermes."
      ]
    },
    {
      "cell_type": "code",
      "metadata": {
        "id": "D5B1NEl4rkmF"
      },
      "source": [
        ""
      ],
      "execution_count": null,
      "outputs": []
    },
    {
      "cell_type": "markdown",
      "metadata": {
        "id": "K9HlT4fSrkmG"
      },
      "source": [
        "Ex 3: Le problème du voyageur de commerce\n",
        "\n",
        "Le problème du voyageur de commerce est un problème d’optimisation consistant à déterminer le plus court chemin reliant un ensemble de destinations. Il n’existe pas d’algorithme donnant la solution optimale en un temps raisonnable (problème NP-complet), mais l’on peut chercher à déterminer des solutions approchées. On va se placer ici dans le cas d’un livreur devant desservir une seule fois chacune desndestinations d’une ville américaine où les rues sont agencées en réseau carré. \n",
        "\n",
        "On utilise la « distance deManhattan »  entre deux points 𝐴(𝑥𝐴,𝑦𝐴) et 𝐵(𝑥𝐵,𝑦𝐵) : 𝑑(𝐴,𝐵) =|𝑥𝐵−𝑥𝐴|+|𝑦𝐵−𝑦𝐴|.\n",
        "\n",
        "En outre, on se place dans le cas où les coordonnées des destinations sont entières, comprises entre 0 (inclus) et TAILLE = 50 (exclus). Deux destinations peuvent éventuellement avoir les mêmes coordonnées. Les instructions suivantes doivent permettre de définir les classes nécessaires (Ville et Trajet) et de développer un algorithme approché (heuristiques) : l’algorithme du plus proche voisin. \n",
        "\n",
        "Seules la librairie standard et la librairie numpy sont utilisables si nécessaire. Implementer les classes et methodes suivante:\n",
        "\n",
        "\n",
        "Classe Ville:\n",
        "* __init__(): initialisation d’une ville sans destination.\n",
        "* aleatoire(n): création de n destinations aléatoires.\n",
        "* nb_trajet(): retourne le nombre total (entier) de trajets :(𝑛−1)!/2(utilisermath.factorial()).\n",
        "* distance(i, j): retourne la distance (Manhattan) entre les deux destinations de numéro i et j\n",
        "\n",
        "\n",
        "Classe Trajet:\n",
        "* __init__(ville, etapes=None): initialisation sur une ville. Si la liste etapes n’est pas spécifiée, le trajet par défaut est celui suivant les destinations de ville.\n",
        "* longueur(): retourne la longueur totale du trajetbouclé(i.e. revenant à son point de départ).\n",
        "\n",
        "\n",
        "Plus proche voisin:\n",
        "* Ville.plus_proche(i, exclus=[]): retourne la destination la plus proche de la destinationi(au sens de Ville.distance()), hors les destinations de la liste exclus\n",
        "* Ville.trajet_voisins(depart=0): retourne un Trajet déterminé selon l’heuristique des plus proches voisins (i.e. l’étape suivante est la destination la plus proche hors les destinations déjà visitées) en partant de l’étape initiale depart\n",
        "\n",
        "Optimisation:\n",
        "* Proposer un algorithme qui propose une meilleur alternative au \"plus proche voisin\".\n",
        "\n",
        "Interface:\n",
        "* Ville.figure(trajet=None): Afficher le plande la ville et le trajet obtenue (utiliser matplotlib.step()pour des trajets de type « Manhattan »)"
      ]
    },
    {
      "cell_type": "code",
      "metadata": {
        "id": "DKRCbLqzrkmI"
      },
      "source": [
        ""
      ],
      "execution_count": null,
      "outputs": []
    }
  ]
}